{
 "cells": [
  {
   "cell_type": "markdown",
   "id": "c121c987",
   "metadata": {},
   "source": [
    "# Exploratory Data Analysis"
   ]
  },
  {
   "cell_type": "markdown",
   "id": "62563953",
   "metadata": {},
   "source": [
    "The data set is quite strange in how it is tabulated. Each column is a year. Every day a new value for the previous day is added but the earliest value is deleted meaning there is a limit to how many values the TSA publishes to its website simultaneously.\n",
    "\n",
    "The data is tabulated so that one can compare the number of flights on the same date of the previous year. As such, it is not arranged chronologically. We will have to mess with some date reformatting to get the data to it's desired format."
   ]
  },
  {
   "cell_type": "code",
   "execution_count": 143,
   "id": "2bb3d2c3",
   "metadata": {},
   "outputs": [],
   "source": [
    "import pandas as pd"
   ]
  },
  {
   "cell_type": "code",
   "execution_count": 144,
   "id": "e68e03b8",
   "metadata": {},
   "outputs": [],
   "source": [
    "df = pd.read_csv(\"Data1.csv\")"
   ]
  },
  {
   "cell_type": "markdown",
   "id": "29fb3b4e",
   "metadata": {},
   "source": [
    "## Formatting and Cleaning Data"
   ]
  },
  {
   "cell_type": "markdown",
   "id": "0d005c7f",
   "metadata": {},
   "source": [
    "Our first goal is to change the data into a time series format, we have to build date-sequences, and then overlay them onto the correct years. \n",
    "\n",
    "If you examine the data from the TSA website, you will notice that each year's column begins in the previous year and ends in the current year. Therefore, our data begins from 2018."
   ]
  },
  {
   "cell_type": "code",
   "execution_count": 145,
   "id": "be8af322",
   "metadata": {},
   "outputs": [
    {
     "data": {
      "text/html": [
       "<div>\n",
       "<style scoped>\n",
       "    .dataframe tbody tr th:only-of-type {\n",
       "        vertical-align: middle;\n",
       "    }\n",
       "\n",
       "    .dataframe tbody tr th {\n",
       "        vertical-align: top;\n",
       "    }\n",
       "\n",
       "    .dataframe thead th {\n",
       "        text-align: right;\n",
       "    }\n",
       "</style>\n",
       "<table border=\"1\" class=\"dataframe\">\n",
       "  <thead>\n",
       "    <tr style=\"text-align: right;\">\n",
       "      <th></th>\n",
       "      <th>Unnamed: 0</th>\n",
       "      <th>Date</th>\n",
       "      <th>2023</th>\n",
       "      <th>2022</th>\n",
       "      <th>2021</th>\n",
       "      <th>2020</th>\n",
       "      <th>2019</th>\n",
       "    </tr>\n",
       "  </thead>\n",
       "  <tbody>\n",
       "    <tr>\n",
       "      <th>0</th>\n",
       "      <td>0</td>\n",
       "      <td>4/10/2023</td>\n",
       "      <td>2,511,861</td>\n",
       "      <td>2,188,196</td>\n",
       "      <td>1,468,972</td>\n",
       "      <td>102,184</td>\n",
       "      <td>2,484,580</td>\n",
       "    </tr>\n",
       "    <tr>\n",
       "      <th>1</th>\n",
       "      <td>1</td>\n",
       "      <td>4/9/2023</td>\n",
       "      <td>2,375,705</td>\n",
       "      <td>2,300,909</td>\n",
       "      <td>1,561,495</td>\n",
       "      <td>90,510</td>\n",
       "      <td>2,446,801</td>\n",
       "    </tr>\n",
       "    <tr>\n",
       "      <th>2</th>\n",
       "      <td>2</td>\n",
       "      <td>4/8/2023</td>\n",
       "      <td>2,093,075</td>\n",
       "      <td>1,959,523</td>\n",
       "      <td>1,378,237</td>\n",
       "      <td>93,645</td>\n",
       "      <td>2,059,142</td>\n",
       "    </tr>\n",
       "    <tr>\n",
       "      <th>3</th>\n",
       "      <td>3</td>\n",
       "      <td>4/7/2023</td>\n",
       "      <td>2,475,368</td>\n",
       "      <td>2,327,849</td>\n",
       "      <td>1,549,181</td>\n",
       "      <td>108,977</td>\n",
       "      <td>2,590,499</td>\n",
       "    </tr>\n",
       "    <tr>\n",
       "      <th>4</th>\n",
       "      <td>4</td>\n",
       "      <td>4/6/2023</td>\n",
       "      <td>2,508,487</td>\n",
       "      <td>2,227,151</td>\n",
       "      <td>1,510,829</td>\n",
       "      <td>104,090</td>\n",
       "      <td>2,487,398</td>\n",
       "    </tr>\n",
       "  </tbody>\n",
       "</table>\n",
       "</div>"
      ],
      "text/plain": [
       "   Unnamed: 0       Date       2023       2022       2021     2020       2019\n",
       "0           0  4/10/2023  2,511,861  2,188,196  1,468,972  102,184  2,484,580\n",
       "1           1   4/9/2023  2,375,705  2,300,909  1,561,495   90,510  2,446,801\n",
       "2           2   4/8/2023  2,093,075  1,959,523  1,378,237   93,645  2,059,142\n",
       "3           3   4/7/2023  2,475,368  2,327,849  1,549,181  108,977  2,590,499\n",
       "4           4   4/6/2023  2,508,487  2,227,151  1,510,829  104,090  2,487,398"
      ]
     },
     "execution_count": 145,
     "metadata": {},
     "output_type": "execute_result"
    }
   ],
   "source": [
    "df.head()"
   ]
  },
  {
   "cell_type": "markdown",
   "id": "21804bb9",
   "metadata": {},
   "source": [
    "First we create our own date ranges labeled with the correct year since the date column in the original data only contains 2022-2023 dates. We use pandas date ranges in order to do this."
   ]
  },
  {
   "cell_type": "markdown",
   "id": "e659db90",
   "metadata": {},
   "source": [
    "The original data does not contain the leap-day (2020 was a leap year) so we have to remove this day from our 2020 date range."
   ]
  },
  {
   "cell_type": "code",
   "execution_count": 146,
   "id": "084cbb59",
   "metadata": {},
   "outputs": [
    {
     "data": {
      "text/plain": [
       "Timestamp('2023-04-10 00:00:00')"
      ]
     },
     "execution_count": 146,
     "metadata": {},
     "output_type": "execute_result"
    }
   ],
   "source": [
    "pd.to_datetime(df[\"Date\"].iloc[0])"
   ]
  },
  {
   "cell_type": "code",
   "execution_count": 185,
   "id": "0557dc41",
   "metadata": {},
   "outputs": [],
   "source": [
    "#Converts a date in the form of a string to \n",
    "#date: date in form of string with mm/dd/yyyy\n",
    "#year: in form of string to a timestamp with the desired year\n",
    "def format_date(date, year):\n",
    "    date_list = date.split(\"/\")\n",
    "    date_list[2] = year\n",
    "    date = \"/\".join(date_list)\n",
    "    date = pd.to_datetime(date)\n",
    "    return date"
   ]
  },
  {
   "cell_type": "code",
   "execution_count": 186,
   "id": "f5e0e654",
   "metadata": {},
   "outputs": [
    {
     "data": {
      "text/plain": [
       "<function __main__.format_date(date, year)>"
      ]
     },
     "execution_count": 186,
     "metadata": {},
     "output_type": "execute_result"
    }
   ],
   "source": [
    "format_date"
   ]
  },
  {
   "cell_type": "code",
   "execution_count": 198,
   "id": "3275ec90",
   "metadata": {},
   "outputs": [],
   "source": [
    "def format_to_ts(df, years, truncated_year):\n",
    "    ts_df = pd.DataFrame({\"Date\": [], \"Checkins\": []})\n",
    "    for year in years:\n",
    "        #Use our formatting function in a lambda so we can map it on the dataframe\n",
    "        x = lambda date: format_date(date, year)\n",
    "        curr_df = df[[\"Date\",year]]\n",
    "        curr_df[\"Date\"] = curr_df[\"Date\"].map(x)\n",
    "        curr_df.rename(columns = {year: \"Checkins\"}, inplace = True)\n",
    "        ts_df = ts_df.append(curr_df)\n",
    "    #drops the nan values\n",
    "    x = lambda date: format_date(date, truncated_year)\n",
    "    truncated_df = df[[\"Date\", truncated_year]].dropna(inplace = True)\n",
    "    truncated_df = truncated_df.map(x)\n",
    "    truncated_df.rename(columns = {truncated_year : \"Checkins\"}, inplace = True)\n",
    "    ts_df = ts_df.append(truncated_df)\n",
    "    return ts_df"
   ]
  },
  {
   "cell_type": "code",
   "execution_count": 199,
   "id": "e4666e2d",
   "metadata": {},
   "outputs": [],
   "source": [
    "years = [\"2019\", \"2020\", \"2021\", \"2022\"]\n",
    "truncated_year = \"2023\""
   ]
  },
  {
   "cell_type": "code",
   "execution_count": 200,
   "id": "544be3e7",
   "metadata": {},
   "outputs": [
    {
     "name": "stderr",
     "output_type": "stream",
     "text": [
      "<ipython-input-198-98b84eabf003>:7: SettingWithCopyWarning: \n",
      "A value is trying to be set on a copy of a slice from a DataFrame.\n",
      "Try using .loc[row_indexer,col_indexer] = value instead\n",
      "\n",
      "See the caveats in the documentation: https://pandas.pydata.org/pandas-docs/stable/user_guide/indexing.html#returning-a-view-versus-a-copy\n",
      "  curr_df[\"Date\"] = curr_df[\"Date\"].map(x)\n",
      "<ipython-input-198-98b84eabf003>:8: SettingWithCopyWarning: \n",
      "A value is trying to be set on a copy of a slice from a DataFrame\n",
      "\n",
      "See the caveats in the documentation: https://pandas.pydata.org/pandas-docs/stable/user_guide/indexing.html#returning-a-view-versus-a-copy\n",
      "  curr_df.rename(columns = {year: \"Checkins\"}, inplace = True)\n",
      "<ipython-input-198-98b84eabf003>:9: FutureWarning: The frame.append method is deprecated and will be removed from pandas in a future version. Use pandas.concat instead.\n",
      "  ts_df = ts_df.append(curr_df)\n",
      "<ipython-input-198-98b84eabf003>:7: SettingWithCopyWarning: \n",
      "A value is trying to be set on a copy of a slice from a DataFrame.\n",
      "Try using .loc[row_indexer,col_indexer] = value instead\n",
      "\n",
      "See the caveats in the documentation: https://pandas.pydata.org/pandas-docs/stable/user_guide/indexing.html#returning-a-view-versus-a-copy\n",
      "  curr_df[\"Date\"] = curr_df[\"Date\"].map(x)\n",
      "<ipython-input-198-98b84eabf003>:8: SettingWithCopyWarning: \n",
      "A value is trying to be set on a copy of a slice from a DataFrame\n",
      "\n",
      "See the caveats in the documentation: https://pandas.pydata.org/pandas-docs/stable/user_guide/indexing.html#returning-a-view-versus-a-copy\n",
      "  curr_df.rename(columns = {year: \"Checkins\"}, inplace = True)\n",
      "<ipython-input-198-98b84eabf003>:9: FutureWarning: The frame.append method is deprecated and will be removed from pandas in a future version. Use pandas.concat instead.\n",
      "  ts_df = ts_df.append(curr_df)\n",
      "<ipython-input-198-98b84eabf003>:7: SettingWithCopyWarning: \n",
      "A value is trying to be set on a copy of a slice from a DataFrame.\n",
      "Try using .loc[row_indexer,col_indexer] = value instead\n",
      "\n",
      "See the caveats in the documentation: https://pandas.pydata.org/pandas-docs/stable/user_guide/indexing.html#returning-a-view-versus-a-copy\n",
      "  curr_df[\"Date\"] = curr_df[\"Date\"].map(x)\n",
      "<ipython-input-198-98b84eabf003>:8: SettingWithCopyWarning: \n",
      "A value is trying to be set on a copy of a slice from a DataFrame\n",
      "\n",
      "See the caveats in the documentation: https://pandas.pydata.org/pandas-docs/stable/user_guide/indexing.html#returning-a-view-versus-a-copy\n",
      "  curr_df.rename(columns = {year: \"Checkins\"}, inplace = True)\n",
      "<ipython-input-198-98b84eabf003>:9: FutureWarning: The frame.append method is deprecated and will be removed from pandas in a future version. Use pandas.concat instead.\n",
      "  ts_df = ts_df.append(curr_df)\n",
      "<ipython-input-198-98b84eabf003>:7: SettingWithCopyWarning: \n",
      "A value is trying to be set on a copy of a slice from a DataFrame.\n",
      "Try using .loc[row_indexer,col_indexer] = value instead\n",
      "\n",
      "See the caveats in the documentation: https://pandas.pydata.org/pandas-docs/stable/user_guide/indexing.html#returning-a-view-versus-a-copy\n",
      "  curr_df[\"Date\"] = curr_df[\"Date\"].map(x)\n",
      "<ipython-input-198-98b84eabf003>:8: SettingWithCopyWarning: \n",
      "A value is trying to be set on a copy of a slice from a DataFrame\n",
      "\n",
      "See the caveats in the documentation: https://pandas.pydata.org/pandas-docs/stable/user_guide/indexing.html#returning-a-view-versus-a-copy\n",
      "  curr_df.rename(columns = {year: \"Checkins\"}, inplace = True)\n",
      "<ipython-input-198-98b84eabf003>:9: FutureWarning: The frame.append method is deprecated and will be removed from pandas in a future version. Use pandas.concat instead.\n",
      "  ts_df = ts_df.append(curr_df)\n",
      "<ipython-input-198-98b84eabf003>:12: SettingWithCopyWarning: \n",
      "A value is trying to be set on a copy of a slice from a DataFrame\n",
      "\n",
      "See the caveats in the documentation: https://pandas.pydata.org/pandas-docs/stable/user_guide/indexing.html#returning-a-view-versus-a-copy\n",
      "  truncated_df = df[[\"Date\", truncated_year]].dropna(inplace = True)\n"
     ]
    },
    {
     "ename": "AttributeError",
     "evalue": "'NoneType' object has no attribute 'map'",
     "output_type": "error",
     "traceback": [
      "\u001b[1;31m---------------------------------------------------------------------------\u001b[0m",
      "\u001b[1;31mAttributeError\u001b[0m                            Traceback (most recent call last)",
      "\u001b[1;32m<ipython-input-200-34f783506fa1>\u001b[0m in \u001b[0;36m<module>\u001b[1;34m\u001b[0m\n\u001b[1;32m----> 1\u001b[1;33m \u001b[0mts_df\u001b[0m \u001b[1;33m=\u001b[0m \u001b[0mformat_to_ts\u001b[0m\u001b[1;33m(\u001b[0m\u001b[0mdf\u001b[0m\u001b[1;33m,\u001b[0m \u001b[0myears\u001b[0m\u001b[1;33m,\u001b[0m \u001b[0mtruncated_year\u001b[0m\u001b[1;33m)\u001b[0m\u001b[1;33m\u001b[0m\u001b[1;33m\u001b[0m\u001b[0m\n\u001b[0m",
      "\u001b[1;32m<ipython-input-198-98b84eabf003>\u001b[0m in \u001b[0;36mformat_to_ts\u001b[1;34m(df, years, truncated_year)\u001b[0m\n\u001b[0;32m     11\u001b[0m     \u001b[0mx\u001b[0m \u001b[1;33m=\u001b[0m \u001b[1;32mlambda\u001b[0m \u001b[0mdate\u001b[0m\u001b[1;33m:\u001b[0m \u001b[0mformat_date\u001b[0m\u001b[1;33m(\u001b[0m\u001b[0mdate\u001b[0m\u001b[1;33m,\u001b[0m \u001b[0mtruncated_year\u001b[0m\u001b[1;33m)\u001b[0m\u001b[1;33m\u001b[0m\u001b[1;33m\u001b[0m\u001b[0m\n\u001b[0;32m     12\u001b[0m     \u001b[0mtruncated_df\u001b[0m \u001b[1;33m=\u001b[0m \u001b[0mdf\u001b[0m\u001b[1;33m[\u001b[0m\u001b[1;33m[\u001b[0m\u001b[1;34m\"Date\"\u001b[0m\u001b[1;33m,\u001b[0m \u001b[0mtruncated_year\u001b[0m\u001b[1;33m]\u001b[0m\u001b[1;33m]\u001b[0m\u001b[1;33m.\u001b[0m\u001b[0mdropna\u001b[0m\u001b[1;33m(\u001b[0m\u001b[0minplace\u001b[0m \u001b[1;33m=\u001b[0m \u001b[1;32mTrue\u001b[0m\u001b[1;33m)\u001b[0m\u001b[1;33m\u001b[0m\u001b[1;33m\u001b[0m\u001b[0m\n\u001b[1;32m---> 13\u001b[1;33m     \u001b[0mtruncated_df\u001b[0m \u001b[1;33m=\u001b[0m \u001b[0mtruncated_df\u001b[0m\u001b[1;33m.\u001b[0m\u001b[0mmap\u001b[0m\u001b[1;33m(\u001b[0m\u001b[0mx\u001b[0m\u001b[1;33m)\u001b[0m\u001b[1;33m\u001b[0m\u001b[1;33m\u001b[0m\u001b[0m\n\u001b[0m\u001b[0;32m     14\u001b[0m     \u001b[0mtruncated_df\u001b[0m\u001b[1;33m.\u001b[0m\u001b[0mrename\u001b[0m\u001b[1;33m(\u001b[0m\u001b[0mcolumns\u001b[0m \u001b[1;33m=\u001b[0m \u001b[1;33m{\u001b[0m\u001b[0mtruncated_year\u001b[0m \u001b[1;33m:\u001b[0m \u001b[1;34m\"Checkins\"\u001b[0m\u001b[1;33m}\u001b[0m\u001b[1;33m,\u001b[0m \u001b[0minplace\u001b[0m \u001b[1;33m=\u001b[0m \u001b[1;32mTrue\u001b[0m\u001b[1;33m)\u001b[0m\u001b[1;33m\u001b[0m\u001b[1;33m\u001b[0m\u001b[0m\n\u001b[0;32m     15\u001b[0m     \u001b[0mts_df\u001b[0m \u001b[1;33m=\u001b[0m \u001b[0mts_df\u001b[0m\u001b[1;33m.\u001b[0m\u001b[0mappend\u001b[0m\u001b[1;33m(\u001b[0m\u001b[0mtruncated_df\u001b[0m\u001b[1;33m)\u001b[0m\u001b[1;33m\u001b[0m\u001b[1;33m\u001b[0m\u001b[0m\n",
      "\u001b[1;31mAttributeError\u001b[0m: 'NoneType' object has no attribute 'map'"
     ]
    }
   ],
   "source": [
    "ts_df = format_to_ts(df, years, truncated_year)"
   ]
  },
  {
   "cell_type": "code",
   "execution_count": 201,
   "id": "36c6a141",
   "metadata": {},
   "outputs": [
    {
     "data": {
      "text/html": [
       "<div>\n",
       "<style scoped>\n",
       "    .dataframe tbody tr th:only-of-type {\n",
       "        vertical-align: middle;\n",
       "    }\n",
       "\n",
       "    .dataframe tbody tr th {\n",
       "        vertical-align: top;\n",
       "    }\n",
       "\n",
       "    .dataframe thead th {\n",
       "        text-align: right;\n",
       "    }\n",
       "</style>\n",
       "<table border=\"1\" class=\"dataframe\">\n",
       "  <thead>\n",
       "    <tr style=\"text-align: right;\">\n",
       "      <th></th>\n",
       "      <th>Date</th>\n",
       "      <th>Checkins</th>\n",
       "    </tr>\n",
       "  </thead>\n",
       "  <tbody>\n",
       "    <tr>\n",
       "      <th>99</th>\n",
       "      <td>2019-01-01</td>\n",
       "      <td>2,202,111</td>\n",
       "    </tr>\n",
       "    <tr>\n",
       "      <th>98</th>\n",
       "      <td>2019-01-02</td>\n",
       "      <td>2,150,571</td>\n",
       "    </tr>\n",
       "    <tr>\n",
       "      <th>97</th>\n",
       "      <td>2019-01-03</td>\n",
       "      <td>1,975,947</td>\n",
       "    </tr>\n",
       "    <tr>\n",
       "      <th>96</th>\n",
       "      <td>2019-01-04</td>\n",
       "      <td>2,229,391</td>\n",
       "    </tr>\n",
       "    <tr>\n",
       "      <th>95</th>\n",
       "      <td>2019-01-05</td>\n",
       "      <td>2,044,043</td>\n",
       "    </tr>\n",
       "    <tr>\n",
       "      <th>...</th>\n",
       "      <td>...</td>\n",
       "      <td>...</td>\n",
       "    </tr>\n",
       "    <tr>\n",
       "      <th>104</th>\n",
       "      <td>2022-12-27</td>\n",
       "      <td>2,163,901</td>\n",
       "    </tr>\n",
       "    <tr>\n",
       "      <th>103</th>\n",
       "      <td>2022-12-28</td>\n",
       "      <td>2,143,566</td>\n",
       "    </tr>\n",
       "    <tr>\n",
       "      <th>102</th>\n",
       "      <td>2022-12-29</td>\n",
       "      <td>2,168,039</td>\n",
       "    </tr>\n",
       "    <tr>\n",
       "      <th>101</th>\n",
       "      <td>2022-12-30</td>\n",
       "      <td>2,367,709</td>\n",
       "    </tr>\n",
       "    <tr>\n",
       "      <th>100</th>\n",
       "      <td>2022-12-31</td>\n",
       "      <td>1,932,949</td>\n",
       "    </tr>\n",
       "  </tbody>\n",
       "</table>\n",
       "<p>1456 rows × 2 columns</p>\n",
       "</div>"
      ],
      "text/plain": [
       "          Date   Checkins\n",
       "99  2019-01-01  2,202,111\n",
       "98  2019-01-02  2,150,571\n",
       "97  2019-01-03  1,975,947\n",
       "96  2019-01-04  2,229,391\n",
       "95  2019-01-05  2,044,043\n",
       "..         ...        ...\n",
       "104 2022-12-27  2,163,901\n",
       "103 2022-12-28  2,143,566\n",
       "102 2022-12-29  2,168,039\n",
       "101 2022-12-30  2,367,709\n",
       "100 2022-12-31  1,932,949\n",
       "\n",
       "[1456 rows x 2 columns]"
      ]
     },
     "execution_count": 201,
     "metadata": {},
     "output_type": "execute_result"
    }
   ],
   "source": [
    "ts_df.sort_values(by = \"Date\")"
   ]
  },
  {
   "cell_type": "markdown",
   "id": "a977dc04",
   "metadata": {},
   "source": [
    "Now we concatenate our date ranges in chronological order as well as the checkin values. We then form a data-frame which we will later use in time series analysis."
   ]
  },
  {
   "cell_type": "code",
   "execution_count": 108,
   "id": "ea40372b",
   "metadata": {},
   "outputs": [],
   "source": [
    "vals1 = df[\"2019\"][::-1]\n",
    "vals2 = df[\"2020\"][::-1]\n",
    "vals3 = df[\"2021\"][::-1]\n",
    "vals4 = df[\"2022\"][::-1]\n",
    "vals5 = df[\"2023\"][::-1]"
   ]
  },
  {
   "cell_type": "code",
   "execution_count": 112,
   "id": "2363a295",
   "metadata": {},
   "outputs": [],
   "source": [
    "vals5.dropna(inplace = True)"
   ]
  },
  {
   "cell_type": "code",
   "execution_count": 114,
   "id": "b5182cb2",
   "metadata": {},
   "outputs": [
    {
     "data": {
      "text/plain": [
       "DatetimeIndex(['2022-04-12', '2022-04-13', '2022-04-14', '2022-04-15',\n",
       "               '2022-04-16', '2022-04-17', '2022-04-18', '2022-04-19',\n",
       "               '2022-04-20', '2022-04-21',\n",
       "               ...\n",
       "               '2022-12-22', '2022-12-23', '2022-12-24', '2022-12-25',\n",
       "               '2022-12-26', '2022-12-27', '2022-12-28', '2022-12-29',\n",
       "               '2022-12-30', '2022-12-31'],\n",
       "              dtype='datetime64[ns]', length=264, freq='D')"
      ]
     },
     "execution_count": 114,
     "metadata": {},
     "output_type": "execute_result"
    }
   ],
   "source": [
    "range5"
   ]
  },
  {
   "cell_type": "code",
   "execution_count": 96,
   "id": "0f8422f0",
   "metadata": {},
   "outputs": [
    {
     "data": {
      "text/plain": [
       "363    2,208,688\n",
       "362    2,317,381\n",
       "361    2,616,158\n",
       "360    2,457,133\n",
       "359    1,988,205\n",
       "         ...    \n",
       "4      2,487,398\n",
       "3      2,590,499\n",
       "2      2,059,142\n",
       "1      2,446,801\n",
       "0      2,484,580\n",
       "Name: 2019, Length: 364, dtype: object"
      ]
     },
     "execution_count": 96,
     "metadata": {},
     "output_type": "execute_result"
    }
   ],
   "source": [
    "df[\"2019\"][::-1]"
   ]
  },
  {
   "cell_type": "code",
   "execution_count": 101,
   "id": "116b609a",
   "metadata": {},
   "outputs": [],
   "source": []
  },
  {
   "cell_type": "code",
   "execution_count": null,
   "id": "3857d16d",
   "metadata": {},
   "outputs": [],
   "source": []
  },
  {
   "cell_type": "code",
   "execution_count": null,
   "id": "32e86569",
   "metadata": {},
   "outputs": [],
   "source": [
    "def to_int(s):\n",
    "    if s == 'nan':\n",
    "        return 'nan'\n",
    "    s = str(s)\n",
    "    return int(s.replace(\",\",\"\"))\n",
    "\n",
    "data.dropna(inplace = True)\n",
    "data.Checkins = data.Checkins.map(to_int)"
   ]
  }
 ],
 "metadata": {
  "kernelspec": {
   "display_name": "Python 3",
   "language": "python",
   "name": "python3"
  },
  "language_info": {
   "codemirror_mode": {
    "name": "ipython",
    "version": 3
   },
   "file_extension": ".py",
   "mimetype": "text/x-python",
   "name": "python",
   "nbconvert_exporter": "python",
   "pygments_lexer": "ipython3",
   "version": "3.8.8"
  }
 },
 "nbformat": 4,
 "nbformat_minor": 5
}
