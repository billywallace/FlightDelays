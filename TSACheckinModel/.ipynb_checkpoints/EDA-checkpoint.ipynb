{
 "cells": [
  {
   "cell_type": "markdown",
   "id": "c121c987",
   "metadata": {},
   "source": [
    "# Exploratory Data Analysis"
   ]
  },
  {
   "cell_type": "markdown",
   "id": "7904b1c8",
   "metadata": {},
   "source": [
    "The data set is quite strange in how it is tabulated. Each column is a year. Every day a new value for the previous day is added but the earliest value is deleted meaning there is a limit to how many values the TSA publishes to its website simultaneously.\n",
    "\n",
    "The data is tabulated so that one can compare the number of flights on the same date of the previous year. As such, it is not arranged chronologically. We will have to mess with some date reformatting to get the data to it's desired format."
   ]
  },
  {
   "cell_type": "code",
   "execution_count": 87,
   "id": "2bb3d2c3",
   "metadata": {},
   "outputs": [],
   "source": [
    "import pandas as pd"
   ]
  },
  {
   "cell_type": "code",
   "execution_count": 88,
   "id": "e68e03b8",
   "metadata": {},
   "outputs": [],
   "source": [
    "df = pd.read_csv(\"Data1.csv\")"
   ]
  },
  {
   "cell_type": "markdown",
   "id": "29fb3b4e",
   "metadata": {},
   "source": [
    "## Formatting Data"
   ]
  },
  {
   "cell_type": "markdown",
   "id": "53ac1348",
   "metadata": {},
   "source": [
    "Our first goal is to change the data into a time series format, we have to build date-sequences, and then overlay them onto the correct years. \n",
    "\n",
    "If you examine the data from the TSA website, you will notice that each year's column begins in the previous year and ends in the current year. Therefore, our data begins from 2018."
   ]
  },
  {
   "cell_type": "code",
   "execution_count": 89,
   "id": "be8af322",
   "metadata": {},
   "outputs": [
    {
     "data": {
      "text/html": [
       "<div>\n",
       "<style scoped>\n",
       "    .dataframe tbody tr th:only-of-type {\n",
       "        vertical-align: middle;\n",
       "    }\n",
       "\n",
       "    .dataframe tbody tr th {\n",
       "        vertical-align: top;\n",
       "    }\n",
       "\n",
       "    .dataframe thead th {\n",
       "        text-align: right;\n",
       "    }\n",
       "</style>\n",
       "<table border=\"1\" class=\"dataframe\">\n",
       "  <thead>\n",
       "    <tr style=\"text-align: right;\">\n",
       "      <th></th>\n",
       "      <th>Unnamed: 0</th>\n",
       "      <th>Date</th>\n",
       "      <th>2023</th>\n",
       "      <th>2022</th>\n",
       "      <th>2021</th>\n",
       "      <th>2020</th>\n",
       "      <th>2019</th>\n",
       "    </tr>\n",
       "  </thead>\n",
       "  <tbody>\n",
       "    <tr>\n",
       "      <th>0</th>\n",
       "      <td>0</td>\n",
       "      <td>4/10/2023</td>\n",
       "      <td>2,511,861</td>\n",
       "      <td>2,188,196</td>\n",
       "      <td>1,468,972</td>\n",
       "      <td>102,184</td>\n",
       "      <td>2,484,580</td>\n",
       "    </tr>\n",
       "    <tr>\n",
       "      <th>1</th>\n",
       "      <td>1</td>\n",
       "      <td>4/9/2023</td>\n",
       "      <td>2,375,705</td>\n",
       "      <td>2,300,909</td>\n",
       "      <td>1,561,495</td>\n",
       "      <td>90,510</td>\n",
       "      <td>2,446,801</td>\n",
       "    </tr>\n",
       "    <tr>\n",
       "      <th>2</th>\n",
       "      <td>2</td>\n",
       "      <td>4/8/2023</td>\n",
       "      <td>2,093,075</td>\n",
       "      <td>1,959,523</td>\n",
       "      <td>1,378,237</td>\n",
       "      <td>93,645</td>\n",
       "      <td>2,059,142</td>\n",
       "    </tr>\n",
       "    <tr>\n",
       "      <th>3</th>\n",
       "      <td>3</td>\n",
       "      <td>4/7/2023</td>\n",
       "      <td>2,475,368</td>\n",
       "      <td>2,327,849</td>\n",
       "      <td>1,549,181</td>\n",
       "      <td>108,977</td>\n",
       "      <td>2,590,499</td>\n",
       "    </tr>\n",
       "    <tr>\n",
       "      <th>4</th>\n",
       "      <td>4</td>\n",
       "      <td>4/6/2023</td>\n",
       "      <td>2,508,487</td>\n",
       "      <td>2,227,151</td>\n",
       "      <td>1,510,829</td>\n",
       "      <td>104,090</td>\n",
       "      <td>2,487,398</td>\n",
       "    </tr>\n",
       "  </tbody>\n",
       "</table>\n",
       "</div>"
      ],
      "text/plain": [
       "   Unnamed: 0       Date       2023       2022       2021     2020       2019\n",
       "0           0  4/10/2023  2,511,861  2,188,196  1,468,972  102,184  2,484,580\n",
       "1           1   4/9/2023  2,375,705  2,300,909  1,561,495   90,510  2,446,801\n",
       "2           2   4/8/2023  2,093,075  1,959,523  1,378,237   93,645  2,059,142\n",
       "3           3   4/7/2023  2,475,368  2,327,849  1,549,181  108,977  2,590,499\n",
       "4           4   4/6/2023  2,508,487  2,227,151  1,510,829  104,090  2,487,398"
      ]
     },
     "execution_count": 89,
     "metadata": {},
     "output_type": "execute_result"
    }
   ],
   "source": [
    "df.head()"
   ]
  },
  {
   "cell_type": "markdown",
   "id": "352e2cf0",
   "metadata": {},
   "source": [
    "First we create our own date ranges labeled with the correct year since the date column in the original data only contains 2022-2023 dates. We use pandas date ranges in order to do this."
   ]
  },
  {
   "cell_type": "markdown",
   "id": "43a34f17",
   "metadata": {},
   "source": [
    "The original data does not contain the leap-day (2020 was a leap year) so we have to remove this day from our 2020 date range."
   ]
  },
  {
   "cell_type": "code",
   "execution_count": 141,
   "id": "690d5927",
   "metadata": {},
   "outputs": [
    {
     "data": {
      "text/plain": [
       "4"
      ]
     },
     "execution_count": 141,
     "metadata": {},
     "output_type": "execute_result"
    }
   ],
   "source": [
    "pd.to_datetime(df[\"Date\"].iloc[0])"
   ]
  },
  {
   "cell_type": "code",
   "execution_count": null,
   "id": "c9fcd84d",
   "metadata": {},
   "outputs": [],
   "source": [
    "#Converts a date in the form of a string to \n",
    "#date: date in form of string with mm/dd/yyyy\n",
    "#year: in form of string to a timestamp with the desired year\n",
    "def format_date(date, year):\n",
    "    date_list = date.split(\"/\")\n",
    "    date_list[2] = year\n",
    "    date = \"/\".join()\n",
    "    date = pd.to_datetime(date)"
   ]
  },
  {
   "cell_type": "code",
   "execution_count": null,
   "id": "f211ff7f",
   "metadata": {},
   "outputs": [],
   "source": [
    "def format_to_ts(df, years, truncated_year):\n",
    "    ts_df = pd.Dataframe({\"Date\": [], \"Checkins\": []})\n",
    "    for year in years:\n",
    "        #Uses our formatting function above to translate\n",
    "        #The date values for the correct year\n",
    "        #Then sorts the values by correct date\n",
    "        x = lambda date: format_date(date, year)\n",
    "        curr_df = df[[\"Date\",year]]\n",
    "        curr_df[\"Date\"] = curr_df[\"Date\"].map(x)\n",
    "        curr_df.sortby(\"Date\")\n",
    "        curr_df.rename(columns = {year: \"Checkins\"}, inplace = True)\n",
    "        \n",
    "        \n",
    "        \n"
   ]
  },
  {
   "cell_type": "code",
   "execution_count": null,
   "id": "4dbd4e74",
   "metadata": {},
   "outputs": [],
   "source": [
    "years = [\"2019\", \"2020\", \"2021\", \"2022\"]\n",
    "truncated_year = \"2023\""
   ]
  },
  {
   "cell_type": "code",
   "execution_count": 90,
   "id": "61be48b3",
   "metadata": {},
   "outputs": [],
   "source": [
    "#The original \n",
    "def deleteLeapDay(daterange):\n",
    "    idx = 0\n",
    "    for i in daterange:\n",
    "        if i.day == 28 and i.month_name() == \"February\":\n",
    "            print(idx)\n",
    "            daterange = daterange.delete(idx)\n",
    "        idx+=1"
   ]
  },
  {
   "cell_type": "markdown",
   "id": "c15b2c1c",
   "metadata": {},
   "source": [
    "Now we concatenate our date ranges in chronological order as well as the checkin values. We then form a data-frame which we will later use in time series analysis."
   ]
  },
  {
   "cell_type": "code",
   "execution_count": 108,
   "id": "8b23d731",
   "metadata": {},
   "outputs": [],
   "source": [
    "vals1 = df[\"2019\"][::-1]\n",
    "vals2 = df[\"2020\"][::-1]\n",
    "vals3 = df[\"2021\"][::-1]\n",
    "vals4 = df[\"2022\"][::-1]\n",
    "vals5 = df[\"2023\"][::-1]"
   ]
  },
  {
   "cell_type": "code",
   "execution_count": 112,
   "id": "d1b2c974",
   "metadata": {},
   "outputs": [],
   "source": [
    "vals5.dropna(inplace = True)"
   ]
  },
  {
   "cell_type": "code",
   "execution_count": 114,
   "id": "53b17422",
   "metadata": {},
   "outputs": [
    {
     "data": {
      "text/plain": [
       "DatetimeIndex(['2022-04-12', '2022-04-13', '2022-04-14', '2022-04-15',\n",
       "               '2022-04-16', '2022-04-17', '2022-04-18', '2022-04-19',\n",
       "               '2022-04-20', '2022-04-21',\n",
       "               ...\n",
       "               '2022-12-22', '2022-12-23', '2022-12-24', '2022-12-25',\n",
       "               '2022-12-26', '2022-12-27', '2022-12-28', '2022-12-29',\n",
       "               '2022-12-30', '2022-12-31'],\n",
       "              dtype='datetime64[ns]', length=264, freq='D')"
      ]
     },
     "execution_count": 114,
     "metadata": {},
     "output_type": "execute_result"
    }
   ],
   "source": [
    "range5"
   ]
  },
  {
   "cell_type": "code",
   "execution_count": 96,
   "id": "0fad2435",
   "metadata": {},
   "outputs": [
    {
     "data": {
      "text/plain": [
       "363    2,208,688\n",
       "362    2,317,381\n",
       "361    2,616,158\n",
       "360    2,457,133\n",
       "359    1,988,205\n",
       "         ...    \n",
       "4      2,487,398\n",
       "3      2,590,499\n",
       "2      2,059,142\n",
       "1      2,446,801\n",
       "0      2,484,580\n",
       "Name: 2019, Length: 364, dtype: object"
      ]
     },
     "execution_count": 96,
     "metadata": {},
     "output_type": "execute_result"
    }
   ],
   "source": [
    "df[\"2019\"][::-1]"
   ]
  },
  {
   "cell_type": "code",
   "execution_count": 101,
   "id": "7afc8029",
   "metadata": {},
   "outputs": [],
   "source": []
  },
  {
   "cell_type": "code",
   "execution_count": null,
   "id": "79da0d64",
   "metadata": {},
   "outputs": [],
   "source": []
  },
  {
   "cell_type": "code",
   "execution_count": null,
   "id": "32e86569",
   "metadata": {},
   "outputs": [],
   "source": [
    "def to_int(s):\n",
    "    if s == 'nan':\n",
    "        return 'nan'\n",
    "    s = str(s)\n",
    "    return int(s.replace(\",\",\"\"))\n",
    "\n",
    "data.dropna(inplace = True)\n",
    "data.Checkins = data.Checkins.map(to_int)"
   ]
  }
 ],
 "metadata": {
  "kernelspec": {
   "display_name": "Python 3",
   "language": "python",
   "name": "python3"
  },
  "language_info": {
   "codemirror_mode": {
    "name": "ipython",
    "version": 3
   },
   "file_extension": ".py",
   "mimetype": "text/x-python",
   "name": "python",
   "nbconvert_exporter": "python",
   "pygments_lexer": "ipython3",
   "version": "3.8.8"
  }
 },
 "nbformat": 4,
 "nbformat_minor": 5
}
